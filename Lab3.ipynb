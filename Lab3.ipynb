{
 "metadata": {
  "name": "",
  "signature": "sha256:3bc8755d62f14ec00e2e393e9ae24ad343cde676336ad9b7fe20c3e72ef5c50d"
 },
 "nbformat": 3,
 "nbformat_minor": 0,
 "worksheets": [
  {
   "cells": [
    {
     "cell_type": "markdown",
     "metadata": {},
     "source": [
      "#Lab 3: Learng Numpy and Scipy Basics#\n"
     ]
    },
    {
     "cell_type": "markdown",
     "metadata": {},
     "source": [
      "###Today, we will discuss the following:###\n",
      "\n",
      "* Brief introduction to Numpy, Scipy\n",
      "    * Vectorizing Functions\n",
      "* More pandas and matplotlib\n"
     ]
    },
    {
     "cell_type": "markdown",
     "metadata": {},
     "source": [
      "## Numpy##"
     ]
    },
    {
     "cell_type": "markdown",
     "metadata": {},
     "source": [
      "Numpy and Scipy are modules in Python for scientific computing. Numpy lets you do fast vectorized operations on arrays. Why use these modules?\n",
      "\n",
      "* They give you the performance of using low-level code with the benefit of writing the code in an interpreted scripting language (all while keeping the native Python code)\n",
      "* They give you fast, memory-efficient multidimensional array called **ndarray** which allows you perform vectorized operations on ( and support mathematical functions such as linear algebra and random number generation)"
     ]
    },
    {
     "cell_type": "code",
     "collapsed": false,
     "input": [
      "%matplotlib inline\n",
      "# Import numpy as scipy\n",
      "import numpy as np\n",
      "import scipy\n",
      "from numpy import random\n",
      "from scipy import stats\n",
      "import matplotlib.pyplot as plt\n",
      "import matplotlib\n",
      "matplotlib.style.use('ggplot')"
     ],
     "language": "python",
     "metadata": {},
     "outputs": [],
     "prompt_number": 143
    },
    {
     "cell_type": "markdown",
     "metadata": {},
     "source": [
      "To create a fast multidimensional ndarray object, use the np.array() method on a python list or tuple or reading data from files."
     ]
    },
    {
     "cell_type": "code",
     "collapsed": false,
     "input": [
      "x = np.array([1,2,3,4])\n",
      "y = np.array([[1,2], [3,4]])\n",
      "x"
     ],
     "language": "python",
     "metadata": {},
     "outputs": [
      {
       "metadata": {},
       "output_type": "pyout",
       "prompt_number": 144,
       "text": [
        "array([1, 2, 3, 4])"
       ]
      }
     ],
     "prompt_number": 144
    },
    {
     "cell_type": "code",
     "collapsed": false,
     "input": [
      "y"
     ],
     "language": "python",
     "metadata": {},
     "outputs": [
      {
       "metadata": {},
       "output_type": "pyout",
       "prompt_number": 145,
       "text": [
        "array([[1, 2],\n",
        "       [3, 4]])"
       ]
      }
     ],
     "prompt_number": 145
    },
    {
     "cell_type": "code",
     "collapsed": false,
     "input": [
      "# Check the type of variable:\n",
      "type(x)"
     ],
     "language": "python",
     "metadata": {},
     "outputs": [
      {
       "metadata": {},
       "output_type": "pyout",
       "prompt_number": 146,
       "text": [
        "numpy.ndarray"
       ]
      }
     ],
     "prompt_number": 146
    },
    {
     "cell_type": "markdown",
     "metadata": {},
     "source": [
      "###Properties of Numpy Arrays###\n",
      "\n"
     ]
    },
    {
     "cell_type": "code",
     "collapsed": false,
     "input": [
      "# GET THE SHAPE OR DIMENSION OF AN ARRAY\n",
      "y.shape"
     ],
     "language": "python",
     "metadata": {},
     "outputs": [
      {
       "metadata": {},
       "output_type": "pyout",
       "prompt_number": 147,
       "text": [
        "(2, 2)"
       ]
      }
     ],
     "prompt_number": 147
    },
    {
     "cell_type": "code",
     "collapsed": false,
     "input": [
      "# GET THE SIZE OR THE NUMBER OF ELEMENTS OF AN ARRAY\n",
      "y.size"
     ],
     "language": "python",
     "metadata": {},
     "outputs": [
      {
       "metadata": {},
       "output_type": "pyout",
       "prompt_number": 148,
       "text": [
        "4"
       ]
      }
     ],
     "prompt_number": 148
    },
    {
     "cell_type": "code",
     "collapsed": false,
     "input": [
      "# GET THE DIMENSIONS OF AN ARRAY\n",
      "y.ndim"
     ],
     "language": "python",
     "metadata": {},
     "outputs": [
      {
       "metadata": {},
       "output_type": "pyout",
       "prompt_number": 149,
       "text": [
        "2"
       ]
      }
     ],
     "prompt_number": 149
    },
    {
     "cell_type": "markdown",
     "metadata": {},
     "source": [
      "### Other ways to Generate Numpy Arrays###"
     ]
    },
    {
     "cell_type": "code",
     "collapsed": false,
     "input": [
      "# Create a range between the start and stop arguments in steps of\n",
      "np.arange(2, 10, 2)"
     ],
     "language": "python",
     "metadata": {},
     "outputs": [
      {
       "metadata": {},
       "output_type": "pyout",
       "prompt_number": 150,
       "text": [
        "array([2, 4, 6, 8])"
       ]
      }
     ],
     "prompt_number": 150
    },
    {
     "cell_type": "markdown",
     "metadata": {},
     "source": [
      "Note that the stop is not inclusive"
     ]
    },
    {
     "cell_type": "code",
     "collapsed": false,
     "input": [
      "# Create a range between start and stop (both ends included) of \n",
      "# certain length\n",
      "np.linspace(0,100, 5)"
     ],
     "language": "python",
     "metadata": {},
     "outputs": [
      {
       "metadata": {},
       "output_type": "pyout",
       "prompt_number": 151,
       "text": [
        "array([   0.,   25.,   50.,   75.,  100.])"
       ]
      }
     ],
     "prompt_number": 151
    },
    {
     "cell_type": "code",
     "collapsed": false,
     "input": [
      "np.arange(0,100,5)"
     ],
     "language": "python",
     "metadata": {},
     "outputs": [
      {
       "metadata": {},
       "output_type": "pyout",
       "prompt_number": 152,
       "text": [
        "array([ 0,  5, 10, 15, 20, 25, 30, 35, 40, 45, 50, 55, 60, 65, 70, 75, 80,\n",
        "       85, 90, 95])"
       ]
      }
     ],
     "prompt_number": 152
    },
    {
     "cell_type": "markdown",
     "metadata": {},
     "source": [
      "The above results shows the difference between **np.arange** and **np.linspace**. In the former the function outputs each number between 0 and 100 in steps of 5. In the latter the function divides the inverval into 5 parts."
     ]
    },
    {
     "cell_type": "code",
     "collapsed": false,
     "input": [
      "# Create a range in the logspace with a define base of length num\n",
      "# np.logspace(start, stop, num, base)\n",
      "np.logspace(1,100,10,10)"
     ],
     "language": "python",
     "metadata": {},
     "outputs": [
      {
       "metadata": {},
       "output_type": "pyout",
       "prompt_number": 153,
       "text": [
        "array([  1.00000000e+001,   1.00000000e+012,   1.00000000e+023,\n",
        "         1.00000000e+034,   1.00000000e+045,   1.00000000e+056,\n",
        "         1.00000000e+067,   1.00000000e+078,   1.00000000e+089,\n",
        "         1.00000000e+100])"
       ]
      }
     ],
     "prompt_number": 153
    },
    {
     "cell_type": "markdown",
     "metadata": {},
     "source": [
      "In addition, the numpy.random module can be used to create arrays using a random number generation"
     ]
    },
    {
     "cell_type": "code",
     "collapsed": false,
     "input": [
      "# Generate N random integers between a and b\n",
      "\n",
      "np.random.randint(1, 100, 50)"
     ],
     "language": "python",
     "metadata": {},
     "outputs": [
      {
       "metadata": {},
       "output_type": "pyout",
       "prompt_number": 154,
       "text": [
        "array([65, 53, 16, 64, 99, 34, 45, 95, 59,  2, 87, 19, 46, 46, 12, 30, 24,\n",
        "       13, 98, 13, 89, 77, 46, 76, 12, 35, 33, 87, 22, 34, 83, 24, 99, 37,\n",
        "        6, 71, 10, 12, 96, 11,  4, 86, 30, 76,  3, 59, 31,  2, 20, 63])"
       ]
      }
     ],
     "prompt_number": 154
    },
    {
     "cell_type": "code",
     "collapsed": false,
     "input": [
      "# Generate uniform random numbers in [0,1] of dimension n x m\n",
      "z = np.random.rand(4,4)\n",
      "z"
     ],
     "language": "python",
     "metadata": {},
     "outputs": [
      {
       "metadata": {},
       "output_type": "pyout",
       "prompt_number": 155,
       "text": [
        "array([[ 0.29856344,  0.23494606,  0.8645337 ,  0.72300756],\n",
        "       [ 0.4867931 ,  0.35486382,  0.6300358 ,  0.19558012],\n",
        "       [ 0.82716203,  0.1011106 ,  0.83157414,  0.79959607],\n",
        "       [ 0.87358334,  0.14876089,  0.89671693,  0.34272202]])"
       ]
      }
     ],
     "prompt_number": 155
    },
    {
     "cell_type": "code",
     "collapsed": false,
     "input": [
      "z.shape"
     ],
     "language": "python",
     "metadata": {},
     "outputs": [
      {
       "metadata": {},
       "output_type": "pyout",
       "prompt_number": 156,
       "text": [
        "(4, 4)"
       ]
      }
     ],
     "prompt_number": 156
    },
    {
     "cell_type": "code",
     "collapsed": false,
     "input": [
      "# Reshape the matrix to have 8 rows and 2 columns\n",
      "z.reshape((8,2))"
     ],
     "language": "python",
     "metadata": {},
     "outputs": [
      {
       "metadata": {},
       "output_type": "pyout",
       "prompt_number": 157,
       "text": [
        "array([[ 0.29856344,  0.23494606],\n",
        "       [ 0.8645337 ,  0.72300756],\n",
        "       [ 0.4867931 ,  0.35486382],\n",
        "       [ 0.6300358 ,  0.19558012],\n",
        "       [ 0.82716203,  0.1011106 ],\n",
        "       [ 0.83157414,  0.79959607],\n",
        "       [ 0.87358334,  0.14876089],\n",
        "       [ 0.89671693,  0.34272202]])"
       ]
      }
     ],
     "prompt_number": 157
    },
    {
     "cell_type": "code",
     "collapsed": false,
     "input": [
      "# To flatten an array is to convert a higher dimensional array into\n",
      "# a vector\n",
      "x = z.flatten()\n",
      "x"
     ],
     "language": "python",
     "metadata": {},
     "outputs": [
      {
       "metadata": {},
       "output_type": "pyout",
       "prompt_number": 158,
       "text": [
        "array([ 0.29856344,  0.23494606,  0.8645337 ,  0.72300756,  0.4867931 ,\n",
        "        0.35486382,  0.6300358 ,  0.19558012,  0.82716203,  0.1011106 ,\n",
        "        0.83157414,  0.79959607,  0.87358334,  0.14876089,  0.89671693,\n",
        "        0.34272202])"
       ]
      }
     ],
     "prompt_number": 158
    },
    {
     "cell_type": "code",
     "collapsed": false,
     "input": [
      "x.shape"
     ],
     "language": "python",
     "metadata": {},
     "outputs": [
      {
       "metadata": {},
       "output_type": "pyout",
       "prompt_number": 159,
       "text": [
        "(16,)"
       ]
      }
     ],
     "prompt_number": 159
    },
    {
     "cell_type": "code",
     "collapsed": false,
     "input": [
      "# Generate standard normal random numbers of dim n x m\n",
      "np.random.randn(4,4)"
     ],
     "language": "python",
     "metadata": {},
     "outputs": [
      {
       "metadata": {},
       "output_type": "pyout",
       "prompt_number": 160,
       "text": [
        "array([[ 0.20510583,  0.84059846,  0.7238621 ,  0.06349239],\n",
        "       [-0.81475562, -0.37233277, -0.73802743,  0.65225567],\n",
        "       [-1.43141939,  1.33090698,  0.53441953,  0.13022887],\n",
        "       [-0.25331763,  0.93533493, -0.12544429, -1.32352542]])"
       ]
      }
     ],
     "prompt_number": 160
    },
    {
     "cell_type": "markdown",
     "metadata": {},
     "source": [
      "##Operating on Numpy Arrays##"
     ]
    },
    {
     "cell_type": "markdown",
     "metadata": {},
     "source": [
      "We will now list methods used to assign values to arrays, index and slice arrays, and carry out element-wise transformations on arrays. \n",
      "\n",
      "To assign values to a specific element in a ndarray, use the assignment operator."
     ]
    },
    {
     "cell_type": "code",
     "collapsed": false,
     "input": [
      "y = np.array([[1, 2], [3, 4]])\n",
      "y.shape"
     ],
     "language": "python",
     "metadata": {},
     "outputs": [
      {
       "metadata": {},
       "output_type": "pyout",
       "prompt_number": 161,
       "text": [
        "(2, 2)"
       ]
      }
     ],
     "prompt_number": 161
    },
    {
     "cell_type": "code",
     "collapsed": false,
     "input": [
      "y"
     ],
     "language": "python",
     "metadata": {},
     "outputs": [
      {
       "metadata": {},
       "output_type": "pyout",
       "prompt_number": 162,
       "text": [
        "array([[1, 2],\n",
        "       [3, 4]])"
       ]
      }
     ],
     "prompt_number": 162
    },
    {
     "cell_type": "code",
     "collapsed": false,
     "input": [
      "# Add a value of 10 at position (0,0) of the y array:\n",
      "y[0,0] = 10\n",
      "y"
     ],
     "language": "python",
     "metadata": {},
     "outputs": [
      {
       "metadata": {},
       "output_type": "pyout",
       "prompt_number": 163,
       "text": [
        "array([[10,  2],\n",
        "       [ 3,  4]])"
       ]
      }
     ],
     "prompt_number": 163
    },
    {
     "cell_type": "code",
     "collapsed": false,
     "input": [
      "data = np.random.rand(4,4)\n",
      "\n",
      "data"
     ],
     "language": "python",
     "metadata": {},
     "outputs": [
      {
       "metadata": {},
       "output_type": "pyout",
       "prompt_number": 164,
       "text": [
        "array([[ 0.22923865,  0.69251392,  0.72265543,  0.53482668],\n",
        "       [ 0.51159875,  0.29332638,  0.94086357,  0.79056409],\n",
        "       [ 0.84886606,  0.6270759 ,  0.10152647,  0.71467595],\n",
        "       [ 0.12612864,  0.88670959,  0.99702271,  0.77037083]])"
       ]
      }
     ],
     "prompt_number": 164
    },
    {
     "cell_type": "code",
     "collapsed": false,
     "input": [
      "# Get the first row of this 4 x 4 matrix\n",
      "data[0,:]"
     ],
     "language": "python",
     "metadata": {},
     "outputs": [
      {
       "metadata": {},
       "output_type": "pyout",
       "prompt_number": 165,
       "text": [
        "array([ 0.22923865,  0.69251392,  0.72265543,  0.53482668])"
       ]
      }
     ],
     "prompt_number": 165
    },
    {
     "cell_type": "code",
     "collapsed": false,
     "input": [
      "# Get the first column of this 4 x 4 matrix\n",
      "data[:, 0]"
     ],
     "language": "python",
     "metadata": {},
     "outputs": [
      {
       "metadata": {},
       "output_type": "pyout",
       "prompt_number": 166,
       "text": [
        "array([ 0.22923865,  0.51159875,  0.84886606,  0.12612864])"
       ]
      }
     ],
     "prompt_number": 166
    },
    {
     "cell_type": "code",
     "collapsed": false,
     "input": [
      "# Get the first and third element in column 1\n",
      "data[0:3:2, 0]"
     ],
     "language": "python",
     "metadata": {},
     "outputs": [
      {
       "metadata": {},
       "output_type": "pyout",
       "prompt_number": 167,
       "text": [
        "array([ 0.22923865,  0.84886606])"
       ]
      }
     ],
     "prompt_number": 167
    },
    {
     "cell_type": "code",
     "collapsed": false,
     "input": [
      "# Get the diagonal elements\n",
      "np.diag(data)"
     ],
     "language": "python",
     "metadata": {},
     "outputs": [
      {
       "metadata": {},
       "output_type": "pyout",
       "prompt_number": 168,
       "text": [
        "array([ 0.22923865,  0.29332638,  0.10152647,  0.77037083])"
       ]
      }
     ],
     "prompt_number": 168
    },
    {
     "cell_type": "code",
     "collapsed": false,
     "input": [
      "# Create a matrix with elememtns from 0 to 31 in 8 x 4 array\n",
      "np.arange(32).reshape((8,4))"
     ],
     "language": "python",
     "metadata": {},
     "outputs": [
      {
       "metadata": {},
       "output_type": "pyout",
       "prompt_number": 169,
       "text": [
        "array([[ 0,  1,  2,  3],\n",
        "       [ 4,  5,  6,  7],\n",
        "       [ 8,  9, 10, 11],\n",
        "       [12, 13, 14, 15],\n",
        "       [16, 17, 18, 19],\n",
        "       [20, 21, 22, 23],\n",
        "       [24, 25, 26, 27],\n",
        "       [28, 29, 30, 31]])"
       ]
      }
     ],
     "prompt_number": 169
    },
    {
     "cell_type": "markdown",
     "metadata": {},
     "source": [
      "##Element-wise Transformation on Arrays##\n",
      "\n",
      "There are many wrappers that take in one scalar and produce one or more scalars (e.g. np.exp(), np.sqrt()). This element-wise array methods are also known as Numpy **ufuncs**. Here are the list:"
     ]
    },
    {
     "cell_type": "markdown",
     "metadata": {},
     "source": [
      "|Function |Description|\n",
      "|---------|-----------|\n",
      "|np.abs(x) |absolute value of each element|\n",
      "|np.sqrt(x)|square root of each element|\n",
      "|np.square(x)|square of each element|\n",
      "|np.exp(x)|exponential of each element|\n",
      "|np.maximum(x, y)|element-wise maximum from two arrays x and y|\n",
      "|np.minimum(x,y)|element-wise minimum|\n",
      "|np.sign(x)|compute the sign of each element: 1 (pos), 0 (zero), -1 (neg)|\n",
      "|np.subtract(x, y)|subtract elements in y from elements in x|\n",
      "|np.power(x, y)|raise elements in first array x to powers in second array y|\n",
      "|np.where(cond, x, y)|ifelse statement|"
     ]
    },
    {
     "cell_type": "markdown",
     "metadata": {},
     "source": [
      "##Vectorizing Functions##"
     ]
    },
    {
     "cell_type": "markdown",
     "metadata": {},
     "source": [
      "It is important to state again that you should avoid looping through elements in vectors if at all possible. One way to get around that when writing functions is to use what is called **vectorized functions**. Say you wrote a function f which accepts some input x and checks if x is bigger or smaller than 0."
     ]
    },
    {
     "cell_type": "code",
     "collapsed": false,
     "input": [
      "def f(x):\n",
      "    if x >=0:\n",
      "        return True\n",
      "    else:\n",
      "        return False\n",
      "    \n",
      "print f(3)"
     ],
     "language": "python",
     "metadata": {},
     "outputs": [
      {
       "output_type": "stream",
       "stream": "stdout",
       "text": [
        "True\n"
       ]
      }
     ],
     "prompt_number": 170
    },
    {
     "cell_type": "markdown",
     "metadata": {},
     "source": [
      "If we give the function an array instead of one value then Python will give an error because there is more than one element in x. The way to ger around this is to **vectorize** the function as follows:"
     ]
    },
    {
     "cell_type": "code",
     "collapsed": false,
     "input": [
      "f_vec = np.vectorize(f)"
     ],
     "language": "python",
     "metadata": {},
     "outputs": [],
     "prompt_number": 171
    },
    {
     "cell_type": "code",
     "collapsed": false,
     "input": [
      "# Now give an array, z we can get the result as follows:\n",
      "z = np.arange(-5, 5)\n",
      "z"
     ],
     "language": "python",
     "metadata": {},
     "outputs": [
      {
       "metadata": {},
       "output_type": "pyout",
       "prompt_number": 172,
       "text": [
        "array([-5, -4, -3, -2, -1,  0,  1,  2,  3,  4])"
       ]
      }
     ],
     "prompt_number": 172
    },
    {
     "cell_type": "code",
     "collapsed": false,
     "input": [
      "f_vec(z)"
     ],
     "language": "python",
     "metadata": {},
     "outputs": [
      {
       "metadata": {},
       "output_type": "pyout",
       "prompt_number": 173,
       "text": [
        "array([False, False, False, False, False,  True,  True,  True,  True,  True], dtype=bool)"
       ]
      }
     ],
     "prompt_number": 173
    },
    {
     "cell_type": "markdown",
     "metadata": {},
     "source": [
      "Instead of vectorizing the function, you can also make the function itself aware that it will be accepting vectors from the beginning."
     ]
    },
    {
     "cell_type": "code",
     "collapsed": false,
     "input": [
      "def g(x):\n",
      "    return (x >=0)\n",
      "\n",
      "g(-3)"
     ],
     "language": "python",
     "metadata": {},
     "outputs": [
      {
       "metadata": {},
       "output_type": "pyout",
       "prompt_number": 174,
       "text": [
        "False"
       ]
      }
     ],
     "prompt_number": 174
    },
    {
     "cell_type": "markdown",
     "metadata": {},
     "source": [
      "##Scipy##\n",
      "\n",
      "Scipy is a collection of mathematical and scientific modules built on top of Numpy. For example, Scipy can handle multidimensional arrays, integration, linear algebra, statistics, and optimization.\n",
      "\n",
      "Here are some Scipy modules:\n",
      "\n",
      "| Favorite SciPy submodules |\tWhat does it contain? |\n",
      "|---------------------------|-------------------------|\n",
      "|scipy.stats |\tstatistics: random variables, probability density functions, cumulative distribution functions, survival functions|\n",
      "|scipy.integrate\t|integration: single, double, triple integration, trapezoidal rule, Simpson's rule, differential equation solvers|\n",
      "|scipy.signal|\tsignal processing tools: signal processing tools such as wavelets, spectral densities, filters, B-splines|\n",
      "|scipy.optimize\t|optimization: find roots, curve fitting, least squares, etc|\n",
      "|scipy.special|\tspecial functions: very specialized functions in mathematical physics e.g. bessel, gamma|\n",
      "|scipy.linalg\t|linear algebra: inverse of a matrix, determinant, Kronecker product, eigenvalue decomposition, SVD, functions for matrices (beyond those in numpy.linalg)|"
     ]
    },
    {
     "cell_type": "markdown",
     "metadata": {},
     "source": [
      "if you want to import a Scipy submodule (e.g. the statistics submodule scipy.stats), use "
     ]
    },
    {
     "cell_type": "code",
     "collapsed": false,
     "input": [
      "from scipy import stats"
     ],
     "language": "python",
     "metadata": {},
     "outputs": [],
     "prompt_number": 175
    },
    {
     "cell_type": "markdown",
     "metadata": {},
     "source": [
      "###Scipy.stats###\n",
      "\n",
      "Let's dive a bit deeper in scipy.stats. The real utility of this submodule is to access probability distributions functions (pdfs) and standard statistical tests (e.g. t-test).\n",
      "\n",
      "###Probability Distribution Functions###\n",
      "There is a large collection of [continuous and discrete pdfs](http://docs.scipy.org/doc/scipy/reference/stats.html) in the scipy.stats submodule. The syntax to simulate random variables from a specific pdf is the name of the distribution followed by .rvs. To generate n=10 N(0,1) random variables,"
     ]
    },
    {
     "cell_type": "code",
     "collapsed": false,
     "input": [
      "from scipy.stats import norm\n",
      "x = norm.rvs(loc = 0, scale = 1, size = 1000)\n",
      "plt.hist(x, color='teal')\n",
      "plt.title('Histogram of 1000 normal random variables')"
     ],
     "language": "python",
     "metadata": {},
     "outputs": [
      {
       "metadata": {},
       "output_type": "pyout",
       "prompt_number": 176,
       "text": [
        "<matplotlib.text.Text at 0x10c9e2c90>"
       ]
      },
      {
       "metadata": {},
       "output_type": "display_data",
       "png": "[encoded data removed]",
       "text": [
        "<matplotlib.figure.Figure at 0x10cb112d0>"
       ]
      }
     ],
     "prompt_number": 176
    },
    {
     "cell_type": "markdown",
     "metadata": {},
     "source": [
      "##More Pandas and Matplotlib##"
     ]
    },
    {
     "cell_type": "markdown",
     "metadata": {},
     "source": [
      "###Motor Trend Car Road Tests Data###\n",
      "\n",
      "The data was extracted from the 1974 Motor Trend US magazine, and comprises fuel consumption and 10 aspects of automobile design and performance for 32 automobiles (1973-74 models).\n",
      "\n",
      "###Reading in the mtcars data (CSV file) "
     ]
    },
    {
     "cell_type": "code",
     "collapsed": false,
     "input": [
      "import pandas as pd\n",
      "raw_file = 'https://raw.githubusercontent.com/cs109/2014_data/master/mtcars.csv'\n",
      "mtcars = pd.read_csv(raw_file, sep=',', index_col=0)\n",
      "mtcars.head()"
     ],
     "language": "python",
     "metadata": {},
     "outputs": [
      {
       "html": [
        "<div style=\"max-height:1000px;max-width:1500px;overflow:auto;\">\n",
        "<table border=\"1\" class=\"dataframe\">\n",
        "  <thead>\n",
        "    <tr style=\"text-align: right;\">\n",
        "      <th></th>\n",
        "      <th>mpg</th>\n",
        "      <th>cyl</th>\n",
        "      <th>disp</th>\n",
        "      <th>hp</th>\n",
        "      <th>drat</th>\n",
        "      <th>wt</th>\n",
        "      <th>qsec</th>\n",
        "      <th>vs</th>\n",
        "      <th>am</th>\n",
        "      <th>gear</th>\n",
        "      <th>carb</th>\n",
        "    </tr>\n",
        "  </thead>\n",
        "  <tbody>\n",
        "    <tr>\n",
        "      <th>Mazda RX4</th>\n",
        "      <td>21.0</td>\n",
        "      <td>6</td>\n",
        "      <td>160</td>\n",
        "      <td>110</td>\n",
        "      <td>3.90</td>\n",
        "      <td>2.620</td>\n",
        "      <td>16.46</td>\n",
        "      <td>0</td>\n",
        "      <td>1</td>\n",
        "      <td>4</td>\n",
        "      <td>4</td>\n",
        "    </tr>\n",
        "    <tr>\n",
        "      <th>Mazda RX4 Wag</th>\n",
        "      <td>21.0</td>\n",
        "      <td>6</td>\n",
        "      <td>160</td>\n",
        "      <td>110</td>\n",
        "      <td>3.90</td>\n",
        "      <td>2.875</td>\n",
        "      <td>17.02</td>\n",
        "      <td>0</td>\n",
        "      <td>1</td>\n",
        "      <td>4</td>\n",
        "      <td>4</td>\n",
        "    </tr>\n",
        "    <tr>\n",
        "      <th>Datsun 710</th>\n",
        "      <td>22.8</td>\n",
        "      <td>4</td>\n",
        "      <td>108</td>\n",
        "      <td>93</td>\n",
        "      <td>3.85</td>\n",
        "      <td>2.320</td>\n",
        "      <td>18.61</td>\n",
        "      <td>1</td>\n",
        "      <td>1</td>\n",
        "      <td>4</td>\n",
        "      <td>1</td>\n",
        "    </tr>\n",
        "    <tr>\n",
        "      <th>Hornet 4 Drive</th>\n",
        "      <td>21.4</td>\n",
        "      <td>6</td>\n",
        "      <td>258</td>\n",
        "      <td>110</td>\n",
        "      <td>3.08</td>\n",
        "      <td>3.215</td>\n",
        "      <td>19.44</td>\n",
        "      <td>1</td>\n",
        "      <td>0</td>\n",
        "      <td>3</td>\n",
        "      <td>1</td>\n",
        "    </tr>\n",
        "    <tr>\n",
        "      <th>Hornet Sportabout</th>\n",
        "      <td>18.7</td>\n",
        "      <td>8</td>\n",
        "      <td>360</td>\n",
        "      <td>175</td>\n",
        "      <td>3.15</td>\n",
        "      <td>3.440</td>\n",
        "      <td>17.02</td>\n",
        "      <td>0</td>\n",
        "      <td>0</td>\n",
        "      <td>3</td>\n",
        "      <td>2</td>\n",
        "    </tr>\n",
        "  </tbody>\n",
        "</table>\n",
        "</div>"
       ],
       "metadata": {},
       "output_type": "pyout",
       "prompt_number": 177,
       "text": [
        "                    mpg  cyl  disp   hp  drat     wt   qsec  vs  am  gear  \\\n",
        "Mazda RX4          21.0    6   160  110  3.90  2.620  16.46   0   1     4   \n",
        "Mazda RX4 Wag      21.0    6   160  110  3.90  2.875  17.02   0   1     4   \n",
        "Datsun 710         22.8    4   108   93  3.85  2.320  18.61   1   1     4   \n",
        "Hornet 4 Drive     21.4    6   258  110  3.08  3.215  19.44   1   0     3   \n",
        "Hornet Sportabout  18.7    8   360  175  3.15  3.440  17.02   0   0     3   \n",
        "\n",
        "                   carb  \n",
        "Mazda RX4             4  \n",
        "Mazda RX4 Wag         4  \n",
        "Datsun 710            1  \n",
        "Hornet 4 Drive        1  \n",
        "Hornet Sportabout     2  "
       ]
      }
     ],
     "prompt_number": 177
    },
    {
     "cell_type": "code",
     "collapsed": false,
     "input": [
      "# Find the number of rows and columns of this data:\n",
      "mtcars.shape"
     ],
     "language": "python",
     "metadata": {},
     "outputs": [
      {
       "metadata": {},
       "output_type": "pyout",
       "prompt_number": 178,
       "text": [
        "(32, 11)"
       ]
      }
     ],
     "prompt_number": 178
    },
    {
     "cell_type": "code",
     "collapsed": false,
     "input": [
      "# Get the column names\n",
      "mtcars.columns"
     ],
     "language": "python",
     "metadata": {},
     "outputs": [
      {
       "metadata": {},
       "output_type": "pyout",
       "prompt_number": 179,
       "text": [
        "Index([u'mpg', u'cyl', u'disp', u'hp', u'drat', u'wt', u'qsec', u'vs', u'am', u'gear', u'carb'], dtype='object')"
       ]
      }
     ],
     "prompt_number": 179
    },
    {
     "cell_type": "markdown",
     "metadata": {},
     "source": [
      "Here is a table containing a description of all column names:\n",
      "\n",
      "|Column name\t|Description|\n",
      "|----------------|----------|\n",
      "|mpg|\tMiles/(US) gallon|\n",
      "|cyl|\tNumber of cylinders|\n",
      "|disp|\tDisplacement (cu.in.)|\n",
      "|hp|\tGross horsepower|\n",
      "|drat|\tRear axle ratio|\n",
      "|wt|\tWeight (lb/1000)|\n",
      "|qsec|\t1/4 mile time|\n",
      "|vs|\tV/S|\n",
      "|am|\tTransmission (0 = automatic, 1 = manual)|\n",
      "|gear|\tNumber of forward gears|\n",
      "|carb|\tNumber of carburetors|"
     ]
    },
    {
     "cell_type": "code",
     "collapsed": false,
     "input": [
      "# Get the last 5 row of DataFrame\n",
      "mtcars.tail()"
     ],
     "language": "python",
     "metadata": {},
     "outputs": [
      {
       "html": [
        "<div style=\"max-height:1000px;max-width:1500px;overflow:auto;\">\n",
        "<table border=\"1\" class=\"dataframe\">\n",
        "  <thead>\n",
        "    <tr style=\"text-align: right;\">\n",
        "      <th></th>\n",
        "      <th>mpg</th>\n",
        "      <th>cyl</th>\n",
        "      <th>disp</th>\n",
        "      <th>hp</th>\n",
        "      <th>drat</th>\n",
        "      <th>wt</th>\n",
        "      <th>qsec</th>\n",
        "      <th>vs</th>\n",
        "      <th>am</th>\n",
        "      <th>gear</th>\n",
        "      <th>carb</th>\n",
        "    </tr>\n",
        "  </thead>\n",
        "  <tbody>\n",
        "    <tr>\n",
        "      <th>Lotus Europa</th>\n",
        "      <td>30.4</td>\n",
        "      <td>4</td>\n",
        "      <td>95.1</td>\n",
        "      <td>113</td>\n",
        "      <td>3.77</td>\n",
        "      <td>1.513</td>\n",
        "      <td>16.9</td>\n",
        "      <td>1</td>\n",
        "      <td>1</td>\n",
        "      <td>5</td>\n",
        "      <td>2</td>\n",
        "    </tr>\n",
        "    <tr>\n",
        "      <th>Ford Pantera L</th>\n",
        "      <td>15.8</td>\n",
        "      <td>8</td>\n",
        "      <td>351.0</td>\n",
        "      <td>264</td>\n",
        "      <td>4.22</td>\n",
        "      <td>3.170</td>\n",
        "      <td>14.5</td>\n",
        "      <td>0</td>\n",
        "      <td>1</td>\n",
        "      <td>5</td>\n",
        "      <td>4</td>\n",
        "    </tr>\n",
        "    <tr>\n",
        "      <th>Ferrari Dino</th>\n",
        "      <td>19.7</td>\n",
        "      <td>6</td>\n",
        "      <td>145.0</td>\n",
        "      <td>175</td>\n",
        "      <td>3.62</td>\n",
        "      <td>2.770</td>\n",
        "      <td>15.5</td>\n",
        "      <td>0</td>\n",
        "      <td>1</td>\n",
        "      <td>5</td>\n",
        "      <td>6</td>\n",
        "    </tr>\n",
        "    <tr>\n",
        "      <th>Maserati Bora</th>\n",
        "      <td>15.0</td>\n",
        "      <td>8</td>\n",
        "      <td>301.0</td>\n",
        "      <td>335</td>\n",
        "      <td>3.54</td>\n",
        "      <td>3.570</td>\n",
        "      <td>14.6</td>\n",
        "      <td>0</td>\n",
        "      <td>1</td>\n",
        "      <td>5</td>\n",
        "      <td>8</td>\n",
        "    </tr>\n",
        "    <tr>\n",
        "      <th>Volvo 142E</th>\n",
        "      <td>21.4</td>\n",
        "      <td>4</td>\n",
        "      <td>121.0</td>\n",
        "      <td>109</td>\n",
        "      <td>4.11</td>\n",
        "      <td>2.780</td>\n",
        "      <td>18.6</td>\n",
        "      <td>1</td>\n",
        "      <td>1</td>\n",
        "      <td>4</td>\n",
        "      <td>2</td>\n",
        "    </tr>\n",
        "  </tbody>\n",
        "</table>\n",
        "</div>"
       ],
       "metadata": {},
       "output_type": "pyout",
       "prompt_number": 180,
       "text": [
        "                 mpg  cyl   disp   hp  drat     wt  qsec  vs  am  gear  carb\n",
        "Lotus Europa    30.4    4   95.1  113  3.77  1.513  16.9   1   1     5     2\n",
        "Ford Pantera L  15.8    8  351.0  264  4.22  3.170  14.5   0   1     5     4\n",
        "Ferrari Dino    19.7    6  145.0  175  3.62  2.770  15.5   0   1     5     6\n",
        "Maserati Bora   15.0    8  301.0  335  3.54  3.570  14.6   0   1     5     8\n",
        "Volvo 142E      21.4    4  121.0  109  4.11  2.780  18.6   1   1     4     2"
       ]
      }
     ],
     "prompt_number": 180
    },
    {
     "cell_type": "code",
     "collapsed": false,
     "input": [
      "# Get rows 20 to 25\n",
      "mtcars.ix[20:25]"
     ],
     "language": "python",
     "metadata": {},
     "outputs": [
      {
       "html": [
        "<div style=\"max-height:1000px;max-width:1500px;overflow:auto;\">\n",
        "<table border=\"1\" class=\"dataframe\">\n",
        "  <thead>\n",
        "    <tr style=\"text-align: right;\">\n",
        "      <th></th>\n",
        "      <th>mpg</th>\n",
        "      <th>cyl</th>\n",
        "      <th>disp</th>\n",
        "      <th>hp</th>\n",
        "      <th>drat</th>\n",
        "      <th>wt</th>\n",
        "      <th>qsec</th>\n",
        "      <th>vs</th>\n",
        "      <th>am</th>\n",
        "      <th>gear</th>\n",
        "      <th>carb</th>\n",
        "    </tr>\n",
        "  </thead>\n",
        "  <tbody>\n",
        "    <tr>\n",
        "      <th>Toyota Corona</th>\n",
        "      <td>21.5</td>\n",
        "      <td>4</td>\n",
        "      <td>120.1</td>\n",
        "      <td>97</td>\n",
        "      <td>3.70</td>\n",
        "      <td>2.465</td>\n",
        "      <td>20.01</td>\n",
        "      <td>1</td>\n",
        "      <td>0</td>\n",
        "      <td>3</td>\n",
        "      <td>1</td>\n",
        "    </tr>\n",
        "    <tr>\n",
        "      <th>Dodge Challenger</th>\n",
        "      <td>15.5</td>\n",
        "      <td>8</td>\n",
        "      <td>318.0</td>\n",
        "      <td>150</td>\n",
        "      <td>2.76</td>\n",
        "      <td>3.520</td>\n",
        "      <td>16.87</td>\n",
        "      <td>0</td>\n",
        "      <td>0</td>\n",
        "      <td>3</td>\n",
        "      <td>2</td>\n",
        "    </tr>\n",
        "    <tr>\n",
        "      <th>AMC Javelin</th>\n",
        "      <td>15.2</td>\n",
        "      <td>8</td>\n",
        "      <td>304.0</td>\n",
        "      <td>150</td>\n",
        "      <td>3.15</td>\n",
        "      <td>3.435</td>\n",
        "      <td>17.30</td>\n",
        "      <td>0</td>\n",
        "      <td>0</td>\n",
        "      <td>3</td>\n",
        "      <td>2</td>\n",
        "    </tr>\n",
        "    <tr>\n",
        "      <th>Camaro Z28</th>\n",
        "      <td>13.3</td>\n",
        "      <td>8</td>\n",
        "      <td>350.0</td>\n",
        "      <td>245</td>\n",
        "      <td>3.73</td>\n",
        "      <td>3.840</td>\n",
        "      <td>15.41</td>\n",
        "      <td>0</td>\n",
        "      <td>0</td>\n",
        "      <td>3</td>\n",
        "      <td>4</td>\n",
        "    </tr>\n",
        "    <tr>\n",
        "      <th>Pontiac Firebird</th>\n",
        "      <td>19.2</td>\n",
        "      <td>8</td>\n",
        "      <td>400.0</td>\n",
        "      <td>175</td>\n",
        "      <td>3.08</td>\n",
        "      <td>3.845</td>\n",
        "      <td>17.05</td>\n",
        "      <td>0</td>\n",
        "      <td>0</td>\n",
        "      <td>3</td>\n",
        "      <td>2</td>\n",
        "    </tr>\n",
        "  </tbody>\n",
        "</table>\n",
        "</div>"
       ],
       "metadata": {},
       "output_type": "pyout",
       "prompt_number": 181,
       "text": [
        "                   mpg  cyl   disp   hp  drat     wt   qsec  vs  am  gear  \\\n",
        "Toyota Corona     21.5    4  120.1   97  3.70  2.465  20.01   1   0     3   \n",
        "Dodge Challenger  15.5    8  318.0  150  2.76  3.520  16.87   0   0     3   \n",
        "AMC Javelin       15.2    8  304.0  150  3.15  3.435  17.30   0   0     3   \n",
        "Camaro Z28        13.3    8  350.0  245  3.73  3.840  15.41   0   0     3   \n",
        "Pontiac Firebird  19.2    8  400.0  175  3.08  3.845  17.05   0   0     3   \n",
        "\n",
        "                  carb  \n",
        "Toyota Corona        1  \n",
        "Dodge Challenger     2  \n",
        "AMC Javelin          2  \n",
        "Camaro Z28           4  \n",
        "Pontiac Firebird     2  "
       ]
      }
     ],
     "prompt_number": 181
    },
    {
     "cell_type": "code",
     "collapsed": false,
     "input": [
      "# Get the row with index Toyota Corona\n",
      "mtcars.ix['Toyota Corona']"
     ],
     "language": "python",
     "metadata": {},
     "outputs": [
      {
       "metadata": {},
       "output_type": "pyout",
       "prompt_number": 182,
       "text": [
        "mpg      21.500\n",
        "cyl       4.000\n",
        "disp    120.100\n",
        "hp       97.000\n",
        "drat      3.700\n",
        "wt        2.465\n",
        "qsec     20.010\n",
        "vs        1.000\n",
        "am        0.000\n",
        "gear      3.000\n",
        "carb      1.000\n",
        "Name: Toyota Corona, dtype: float64"
       ]
      }
     ],
     "prompt_number": 182
    },
    {
     "cell_type": "markdown",
     "metadata": {},
     "source": [
      "## Exploratory Data Analysis (EDA)##"
     ]
    },
    {
     "cell_type": "markdown",
     "metadata": {},
     "source": [
      "Even though they may look like continuous variabes, cyl, vs, am, gear and carb are integer or categorical variables. First, let's look at some summary statistics of the mtcars data set."
     ]
    },
    {
     "cell_type": "code",
     "collapsed": false,
     "input": [
      "mtcars.describe()"
     ],
     "language": "python",
     "metadata": {},
     "outputs": [
      {
       "html": [
        "<div style=\"max-height:1000px;max-width:1500px;overflow:auto;\">\n",
        "<table border=\"1\" class=\"dataframe\">\n",
        "  <thead>\n",
        "    <tr style=\"text-align: right;\">\n",
        "      <th></th>\n",
        "      <th>mpg</th>\n",
        "      <th>cyl</th>\n",
        "      <th>disp</th>\n",
        "      <th>hp</th>\n",
        "      <th>drat</th>\n",
        "      <th>wt</th>\n",
        "      <th>qsec</th>\n",
        "      <th>vs</th>\n",
        "      <th>am</th>\n",
        "      <th>gear</th>\n",
        "      <th>carb</th>\n",
        "    </tr>\n",
        "  </thead>\n",
        "  <tbody>\n",
        "    <tr>\n",
        "      <th>count</th>\n",
        "      <td>32.000000</td>\n",
        "      <td>32.000000</td>\n",
        "      <td>32.000000</td>\n",
        "      <td>32.000000</td>\n",
        "      <td>32.000000</td>\n",
        "      <td>32.000000</td>\n",
        "      <td>32.000000</td>\n",
        "      <td>32.000000</td>\n",
        "      <td>32.000000</td>\n",
        "      <td>32.000000</td>\n",
        "      <td>32.0000</td>\n",
        "    </tr>\n",
        "    <tr>\n",
        "      <th>mean</th>\n",
        "      <td>20.090625</td>\n",
        "      <td>6.187500</td>\n",
        "      <td>230.721875</td>\n",
        "      <td>146.687500</td>\n",
        "      <td>3.596563</td>\n",
        "      <td>3.217250</td>\n",
        "      <td>17.848750</td>\n",
        "      <td>0.437500</td>\n",
        "      <td>0.406250</td>\n",
        "      <td>3.687500</td>\n",
        "      <td>2.8125</td>\n",
        "    </tr>\n",
        "    <tr>\n",
        "      <th>std</th>\n",
        "      <td>6.026948</td>\n",
        "      <td>1.785922</td>\n",
        "      <td>123.938694</td>\n",
        "      <td>68.562868</td>\n",
        "      <td>0.534679</td>\n",
        "      <td>0.978457</td>\n",
        "      <td>1.786943</td>\n",
        "      <td>0.504016</td>\n",
        "      <td>0.498991</td>\n",
        "      <td>0.737804</td>\n",
        "      <td>1.6152</td>\n",
        "    </tr>\n",
        "    <tr>\n",
        "      <th>min</th>\n",
        "      <td>10.400000</td>\n",
        "      <td>4.000000</td>\n",
        "      <td>71.100000</td>\n",
        "      <td>52.000000</td>\n",
        "      <td>2.760000</td>\n",
        "      <td>1.513000</td>\n",
        "      <td>14.500000</td>\n",
        "      <td>0.000000</td>\n",
        "      <td>0.000000</td>\n",
        "      <td>3.000000</td>\n",
        "      <td>1.0000</td>\n",
        "    </tr>\n",
        "    <tr>\n",
        "      <th>25%</th>\n",
        "      <td>15.425000</td>\n",
        "      <td>4.000000</td>\n",
        "      <td>120.825000</td>\n",
        "      <td>96.500000</td>\n",
        "      <td>3.080000</td>\n",
        "      <td>2.581250</td>\n",
        "      <td>16.892500</td>\n",
        "      <td>0.000000</td>\n",
        "      <td>0.000000</td>\n",
        "      <td>3.000000</td>\n",
        "      <td>2.0000</td>\n",
        "    </tr>\n",
        "    <tr>\n",
        "      <th>50%</th>\n",
        "      <td>19.200000</td>\n",
        "      <td>6.000000</td>\n",
        "      <td>196.300000</td>\n",
        "      <td>123.000000</td>\n",
        "      <td>3.695000</td>\n",
        "      <td>3.325000</td>\n",
        "      <td>17.710000</td>\n",
        "      <td>0.000000</td>\n",
        "      <td>0.000000</td>\n",
        "      <td>4.000000</td>\n",
        "      <td>2.0000</td>\n",
        "    </tr>\n",
        "    <tr>\n",
        "      <th>75%</th>\n",
        "      <td>22.800000</td>\n",
        "      <td>8.000000</td>\n",
        "      <td>326.000000</td>\n",
        "      <td>180.000000</td>\n",
        "      <td>3.920000</td>\n",
        "      <td>3.610000</td>\n",
        "      <td>18.900000</td>\n",
        "      <td>1.000000</td>\n",
        "      <td>1.000000</td>\n",
        "      <td>4.000000</td>\n",
        "      <td>4.0000</td>\n",
        "    </tr>\n",
        "    <tr>\n",
        "      <th>max</th>\n",
        "      <td>33.900000</td>\n",
        "      <td>8.000000</td>\n",
        "      <td>472.000000</td>\n",
        "      <td>335.000000</td>\n",
        "      <td>4.930000</td>\n",
        "      <td>5.424000</td>\n",
        "      <td>22.900000</td>\n",
        "      <td>1.000000</td>\n",
        "      <td>1.000000</td>\n",
        "      <td>5.000000</td>\n",
        "      <td>8.0000</td>\n",
        "    </tr>\n",
        "  </tbody>\n",
        "</table>\n",
        "</div>"
       ],
       "metadata": {},
       "output_type": "pyout",
       "prompt_number": 183,
       "text": [
        "             mpg        cyl        disp          hp       drat         wt  \\\n",
        "count  32.000000  32.000000   32.000000   32.000000  32.000000  32.000000   \n",
        "mean   20.090625   6.187500  230.721875  146.687500   3.596563   3.217250   \n",
        "std     6.026948   1.785922  123.938694   68.562868   0.534679   0.978457   \n",
        "min    10.400000   4.000000   71.100000   52.000000   2.760000   1.513000   \n",
        "25%    15.425000   4.000000  120.825000   96.500000   3.080000   2.581250   \n",
        "50%    19.200000   6.000000  196.300000  123.000000   3.695000   3.325000   \n",
        "75%    22.800000   8.000000  326.000000  180.000000   3.920000   3.610000   \n",
        "max    33.900000   8.000000  472.000000  335.000000   4.930000   5.424000   \n",
        "\n",
        "            qsec         vs         am       gear     carb  \n",
        "count  32.000000  32.000000  32.000000  32.000000  32.0000  \n",
        "mean   17.848750   0.437500   0.406250   3.687500   2.8125  \n",
        "std     1.786943   0.504016   0.498991   0.737804   1.6152  \n",
        "min    14.500000   0.000000   0.000000   3.000000   1.0000  \n",
        "25%    16.892500   0.000000   0.000000   3.000000   2.0000  \n",
        "50%    17.710000   0.000000   0.000000   4.000000   2.0000  \n",
        "75%    18.900000   1.000000   1.000000   4.000000   4.0000  \n",
        "max    22.900000   1.000000   1.000000   5.000000   8.0000  "
       ]
      }
     ],
     "prompt_number": 183
    },
    {
     "cell_type": "markdown",
     "metadata": {},
     "source": [
      "###Using Conditional Statements###"
     ]
    },
    {
     "cell_type": "markdown",
     "metadata": {},
     "source": [
      "To check if any or all elements in an array meet a certain criteria, use any() and all()"
     ]
    },
    {
     "cell_type": "code",
     "collapsed": false,
     "input": [
      "(mtcars.mpg <= 15).any()"
     ],
     "language": "python",
     "metadata": {},
     "outputs": [
      {
       "metadata": {},
       "output_type": "pyout",
       "prompt_number": 184,
       "text": [
        "True"
       ]
      }
     ],
     "prompt_number": 184
    },
    {
     "cell_type": "code",
     "collapsed": false,
     "input": [
      "(mtcars > 0).all()"
     ],
     "language": "python",
     "metadata": {},
     "outputs": [
      {
       "metadata": {},
       "output_type": "pyout",
       "prompt_number": 185,
       "text": [
        "mpg      True\n",
        "cyl      True\n",
        "disp     True\n",
        "hp       True\n",
        "drat     True\n",
        "wt       True\n",
        "qsec     True\n",
        "vs      False\n",
        "am      False\n",
        "gear     True\n",
        "carb     True\n",
        "dtype: bool"
       ]
      }
     ],
     "prompt_number": 185
    },
    {
     "cell_type": "markdown",
     "metadata": {},
     "source": [
      "Let's look at the distribution of mpg using a histogram"
     ]
    },
    {
     "cell_type": "code",
     "collapsed": false,
     "input": [
      "mtcars['mpg'].hist(figsize = (8,6), color = 'teal')\n",
      "plt.title('Distribution of MPG')\n",
      "plt.xlabel('Miles Per Gallon')"
     ],
     "language": "python",
     "metadata": {},
     "outputs": [
      {
       "metadata": {},
       "output_type": "pyout",
       "prompt_number": 186,
       "text": [
        "<matplotlib.text.Text at 0x10c89a8d0>"
       ]
      },
      {
       "metadata": {},
       "output_type": "display_data",
       "png": "[encoded data removed]",
       "text": [
        "<matplotlib.figure.Figure at 0x10c7ca450>"
       ]
      }
     ],
     "prompt_number": 186
    },
    {
     "cell_type": "code",
     "collapsed": false,
     "input": [
      "# Relationship between cyl and mpg\n",
      "plt.scatter(x = mtcars.cyl, y=mtcars.mpg)\n",
      "plt.xlabel('Cylinders')\n",
      "plt.ylabel('MPG')\n",
      "plt.title('Relationship between cylinders and MPG')\n",
      "plt.grid(True)"
     ],
     "language": "python",
     "metadata": {},
     "outputs": [
      {
       "metadata": {},
       "output_type": "display_data",
       "png": "[encoded data removed]",
       "text": [
        "<matplotlib.figure.Figure at 0x10c38eb10>"
       ]
      }
     ],
     "prompt_number": 187
    },
    {
     "cell_type": "code",
     "collapsed": false,
     "input": [
      "# Realationship between horsepower and mpg\n",
      "mtcars.plot('hp', 'mpg', kind='scatter', figsize=(8,6))\n",
      "plt.xlabel('Horsepower')\n",
      "plt.ylabel('MPG')\n",
      "plt.title('Relationship between horsepower and MPG')"
     ],
     "language": "python",
     "metadata": {},
     "outputs": [
      {
       "metadata": {},
       "output_type": "pyout",
       "prompt_number": 191,
       "text": [
        "<matplotlib.text.Text at 0x10cda6a10>"
       ]
      },
      {
       "metadata": {},
       "output_type": "display_data",
       "png": "[encoded data removed]",
       "text": [
        "<matplotlib.figure.Figure at 0x10cc1af50>"
       ]
      }
     ],
     "prompt_number": 191
    },
    {
     "cell_type": "code",
     "collapsed": false,
     "input": [],
     "language": "python",
     "metadata": {},
     "outputs": []
    }
   ],
   "metadata": {}
  }
 ]
}