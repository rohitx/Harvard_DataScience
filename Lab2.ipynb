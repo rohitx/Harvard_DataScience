{
 "metadata": {
  "name": "",
  "signature": "sha256:8fca83f021df11672d47ee40e288193c4885053221cb9bed09d34defe55343e3"
 },
 "nbformat": 3,
 "nbformat_minor": 0,
 "worksheets": [
  {
   "cells": [
    {
     "cell_type": "markdown",
     "metadata": {},
     "source": [
      "##Lab 2: Learning to use Pandas##"
     ]
    },
    {
     "cell_type": "markdown",
     "metadata": {},
     "source": [
      "###Today, we will discuss the following:###\n",
      "\n",
      "* Reading in a CSV file into a pandas DataFrame\n",
      "* Using histograms, scatterplots and boxplots as EDA\n",
      "* Summary Statistics\n",
      "* Functions to access a pandas DataFrame\n",
      "* Defining your own functions and using loops\n",
      "\n",
      "We will work with Diamonds Data. This set contains the prices and other attributes of almost 54,000 diamonds. This dataset is available on Github as diamonds.csv"
     ]
    },
    {
     "cell_type": "markdown",
     "metadata": {},
     "source": [
      "###Reading in the diamonds data (CSV file) from the web###\n",
      "\n",
      "This is a .csv file, so we will use the function read_csv() that will read in a CSV file into a pandas DataFrame"
     ]
    },
    {
     "cell_type": "code",
     "collapsed": false,
     "input": [
      "import pandas as pd\n",
      "import numpy as np\n",
      "\n",
      "url = 'https://raw.githubusercontent.com/cs109/2014_data/master/diamonds.csv'\n",
      "diamonds = pd.read_csv(url, sep = ',', index_col=0)\n",
      "diamonds.head()"
     ],
     "language": "python",
     "metadata": {},
     "outputs": [
      {
       "html": [
        "<div style=\"max-height:1000px;max-width:1500px;overflow:auto;\">\n",
        "<table border=\"1\" class=\"dataframe\">\n",
        "  <thead>\n",
        "    <tr style=\"text-align: right;\">\n",
        "      <th></th>\n",
        "      <th>carat</th>\n",
        "      <th>cut</th>\n",
        "      <th>color</th>\n",
        "      <th>clarity</th>\n",
        "      <th>depth</th>\n",
        "      <th>table</th>\n",
        "      <th>price</th>\n",
        "      <th>x</th>\n",
        "      <th>y</th>\n",
        "      <th>z</th>\n",
        "    </tr>\n",
        "  </thead>\n",
        "  <tbody>\n",
        "    <tr>\n",
        "      <th>1</th>\n",
        "      <td>0.23</td>\n",
        "      <td>Ideal</td>\n",
        "      <td>E</td>\n",
        "      <td>SI2</td>\n",
        "      <td>61.5</td>\n",
        "      <td>55</td>\n",
        "      <td>326</td>\n",
        "      <td>3.95</td>\n",
        "      <td>3.98</td>\n",
        "      <td>2.43</td>\n",
        "    </tr>\n",
        "    <tr>\n",
        "      <th>2</th>\n",
        "      <td>0.21</td>\n",
        "      <td>Premium</td>\n",
        "      <td>E</td>\n",
        "      <td>SI1</td>\n",
        "      <td>59.8</td>\n",
        "      <td>61</td>\n",
        "      <td>326</td>\n",
        "      <td>3.89</td>\n",
        "      <td>3.84</td>\n",
        "      <td>2.31</td>\n",
        "    </tr>\n",
        "    <tr>\n",
        "      <th>3</th>\n",
        "      <td>0.23</td>\n",
        "      <td>Good</td>\n",
        "      <td>E</td>\n",
        "      <td>VS1</td>\n",
        "      <td>56.9</td>\n",
        "      <td>65</td>\n",
        "      <td>327</td>\n",
        "      <td>4.05</td>\n",
        "      <td>4.07</td>\n",
        "      <td>2.31</td>\n",
        "    </tr>\n",
        "    <tr>\n",
        "      <th>4</th>\n",
        "      <td>0.29</td>\n",
        "      <td>Premium</td>\n",
        "      <td>I</td>\n",
        "      <td>VS2</td>\n",
        "      <td>62.4</td>\n",
        "      <td>58</td>\n",
        "      <td>334</td>\n",
        "      <td>4.20</td>\n",
        "      <td>4.23</td>\n",
        "      <td>2.63</td>\n",
        "    </tr>\n",
        "    <tr>\n",
        "      <th>5</th>\n",
        "      <td>0.31</td>\n",
        "      <td>Good</td>\n",
        "      <td>J</td>\n",
        "      <td>SI2</td>\n",
        "      <td>63.3</td>\n",
        "      <td>58</td>\n",
        "      <td>335</td>\n",
        "      <td>4.34</td>\n",
        "      <td>4.35</td>\n",
        "      <td>2.75</td>\n",
        "    </tr>\n",
        "  </tbody>\n",
        "</table>\n",
        "</div>"
       ],
       "metadata": {},
       "output_type": "pyout",
       "prompt_number": 1,
       "text": [
        "   carat      cut color clarity  depth  table  price     x     y     z\n",
        "1   0.23    Ideal     E     SI2   61.5     55    326  3.95  3.98  2.43\n",
        "2   0.21  Premium     E     SI1   59.8     61    326  3.89  3.84  2.31\n",
        "3   0.23     Good     E     VS1   56.9     65    327  4.05  4.07  2.31\n",
        "4   0.29  Premium     I     VS2   62.4     58    334  4.20  4.23  2.63\n",
        "5   0.31     Good     J     SI2   63.3     58    335  4.34  4.35  2.75"
       ]
      }
     ],
     "prompt_number": 1
    },
    {
     "cell_type": "code",
     "collapsed": false,
     "input": [],
     "language": "python",
     "metadata": {},
     "outputs": []
    }
   ],
   "metadata": {}
  }
 ]
}