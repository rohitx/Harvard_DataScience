{
 "metadata": {
  "name": "",
  "signature": "sha256:cfb5d801131f7785125d8a6c0931399e590b53f0d2565882c87092c489b08b62"
 },
 "nbformat": 3,
 "nbformat_minor": 0,
 "worksheets": [
  {
   "cells": [
    {
     "cell_type": "code",
     "collapsed": false,
     "input": [
      "import numpy as np\n"
     ],
     "language": "python",
     "metadata": {},
     "outputs": [],
     "prompt_number": 2
    },
    {
     "cell_type": "code",
     "collapsed": false,
     "input": [
      "def find_num(num1, num2):\n",
      "    x = np.arange(1,101/num1 + 1) * num1\n",
      "    y = np.arange(1,101/num2 + 1) * num2\n",
      "    print x\n",
      "    print y\n",
      "    count = []\n",
      "    for i in x:\n",
      "        if i in y:\n",
      "            count.append(True)\n",
      "    print count\n",
      "    return len(x) + len(y) - len(count)\n",
      "\n",
      "find_num(9, 7)"
     ],
     "language": "python",
     "metadata": {},
     "outputs": [
      {
       "output_type": "stream",
       "stream": "stdout",
       "text": [
        "[ 9 18 27 36 45 54 63 72 81 90 99]\n",
        "[ 7 14 21 28 35 42 49 56 63 70 77 84 91 98]\n",
        "[True]\n"
       ]
      },
      {
       "metadata": {},
       "output_type": "pyout",
       "prompt_number": 4,
       "text": [
        "24"
       ]
      }
     ],
     "prompt_number": 4
    },
    {
     "cell_type": "code",
     "collapsed": false,
     "input": [],
     "language": "python",
     "metadata": {},
     "outputs": []
    }
   ],
   "metadata": {}
  }
 ]
}