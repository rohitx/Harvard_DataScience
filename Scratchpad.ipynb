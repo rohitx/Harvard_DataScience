{
 "metadata": {
  "name": "",
  "signature": "sha256:980849989cb20fc2759965216f8b415f3cf6ffb53577ca27af6de8c24e15f7eb"
 },
 "nbformat": 3,
 "nbformat_minor": 0,
 "worksheets": [
  {
   "cells": [
    {
     "cell_type": "code",
     "collapsed": false,
     "input": [
      "import numpy as np\n"
     ],
     "language": "python",
     "metadata": {},
     "outputs": [],
     "prompt_number": 1
    },
    {
     "cell_type": "code",
     "collapsed": false,
     "input": [
      "def find_num(num1, num2):\n",
      "    x = np.arange(1,101/num1 + 1) * num1\n",
      "    y = np.arange(1,101/num2 + 1) * num2\n",
      "    print x\n",
      "    print y\n",
      "    count = []\n",
      "    for i in x:\n",
      "        if i in y:\n",
      "            count.append(True)\n",
      "    print count\n",
      "    return len(x) + len(y) - len(count)\n",
      "\n",
      "find_num(5, 9)"
     ],
     "language": "python",
     "metadata": {},
     "outputs": [
      {
       "output_type": "stream",
       "stream": "stdout",
       "text": [
        "[  5  10  15  20  25  30  35  40  45  50  55  60  65  70  75  80  85  90\n",
        "  95 100]\n",
        "[ 9 18 27 36 45 54 63 72 81 90 99]\n",
        "[True, True]\n"
       ]
      },
      {
       "metadata": {},
       "output_type": "pyout",
       "prompt_number": 16,
       "text": [
        "29"
       ]
      }
     ],
     "prompt_number": 16
    },
    {
     "cell_type": "code",
     "collapsed": false,
     "input": [],
     "language": "python",
     "metadata": {},
     "outputs": []
    }
   ],
   "metadata": {}
  }
 ]
}