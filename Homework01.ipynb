{
 "metadata": {
  "name": "",
  "signature": "sha256:f1e1cabaf55dae5dcfabaa0a5f81821630a5d5ed9b9dfe014ffae50c8141d2a1"
 },
 "nbformat": 3,
 "nbformat_minor": 0,
 "worksheets": [
  {
   "cells": [
    {
     "cell_type": "markdown",
     "metadata": {},
     "source": [
      "#Homework 0#"
     ]
    },
    {
     "cell_type": "code",
     "collapsed": false,
     "input": [
      "x = [10, 20, 30, 40, 50]\n",
      "for item in x:\n",
      "    print \"Item is \", item"
     ],
     "language": "python",
     "metadata": {},
     "outputs": [
      {
       "output_type": "stream",
       "stream": "stdout",
       "text": [
        "Item is  10\n",
        "Item is  20\n",
        "Item is  30\n",
        "Item is  40\n",
        "Item is  50\n"
       ]
      }
     ],
     "prompt_number": 1
    },
    {
     "cell_type": "markdown",
     "metadata": {},
     "source": [
      "Here we list the packages that will be used in the course. Make sure they all return to the version number. If any of those fail, make sure to install them"
     ]
    }
   ],
   "metadata": {}
  }
 ]
}